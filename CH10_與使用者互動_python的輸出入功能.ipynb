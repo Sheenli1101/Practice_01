{
 "cells": [
  {
   "cell_type": "markdown",
   "metadata": {},
   "source": [
    "# 顯示輸出結果"
   ]
  },
  {
   "cell_type": "code",
   "execution_count": 2,
   "metadata": {},
   "outputs": [
    {
     "name": "stdout",
     "output_type": "stream",
     "text": [
      "Nice is the new cool\n"
     ]
    }
   ],
   "source": [
    "a = 'nice'\n",
    "b = 'is the new cool'\n",
    "print(a.capitalize()+ ' ' + b)"
   ]
  },
  {
   "cell_type": "markdown",
   "metadata": {},
   "source": [
    "# 顯示多個物件的值\n",
    "- 加逗號"
   ]
  },
  {
   "cell_type": "code",
   "execution_count": 3,
   "metadata": {},
   "outputs": [
    {
     "name": "stdout",
     "output_type": "stream",
     "text": [
      "1 / 2 = 0.5\n"
     ]
    }
   ],
   "source": [
    "a = 1\n",
    "b = 2\n",
    "c = a/b\n",
    "print(a, '/', b, '=', c)"
   ]
  },
  {
   "cell_type": "code",
   "execution_count": 4,
   "metadata": {},
   "outputs": [
    {
     "name": "stdout",
     "output_type": "stream",
     "text": [
      "100 pickles and 100 cookies.\n"
     ]
    }
   ],
   "source": [
    "sweet = 'cookies'\n",
    "savory = 'pickles'\n",
    "num = 100\n",
    "print(num, savory,'and', num, sweet+'.')"
   ]
  },
  {
   "cell_type": "code",
   "execution_count": 5,
   "metadata": {},
   "outputs": [
    {
     "name": "stdout",
     "output_type": "stream",
     "text": [
      "I choose the COOKIES!\n"
     ]
    }
   ],
   "source": [
    "sweet = 'cookies'\n",
    "print('I',\"choose\", 'the', sweet.upper() + '!')"
   ]
  },
  {
   "cell_type": "markdown",
   "metadata": {},
   "source": [
    "# 輸入資訊"
   ]
  },
  {
   "cell_type": "code",
   "execution_count": 6,
   "metadata": {},
   "outputs": [
    {
     "name": "stdout",
     "output_type": "stream",
     "text": [
      "what's your names? Sheen\n"
     ]
    },
    {
     "data": {
      "text/plain": [
       "'Sheen'"
      ]
     },
     "execution_count": 6,
     "metadata": {},
     "output_type": "execute_result"
    }
   ],
   "source": [
    "input(\"what's your names? \")"
   ]
  },
  {
   "cell_type": "code",
   "execution_count": 7,
   "metadata": {},
   "outputs": [
    {
     "name": "stdout",
     "output_type": "stream",
     "text": [
      "你最喜歡的歌名 YA\n",
      "YA\n",
      "YA\n",
      "YA\n"
     ]
    }
   ],
   "source": [
    "name = input(\"你最喜歡的歌名 \" )\n",
    "print(name)\n",
    "print(name)\n",
    "print(name)"
   ]
  },
  {
   "cell_type": "code",
   "execution_count": 18,
   "metadata": {},
   "outputs": [
    {
     "name": "stdout",
     "output_type": "stream",
     "text": [
      "先輸入一個名人的英文名字 Bill Gates\n",
      "Bill\n",
      "Gates\n"
     ]
    }
   ],
   "source": [
    "name = input(\"先輸入一個名人的英文名字 \")\n",
    "space = name.find(\" \")\n",
    "first_name = name[:space]\n",
    "Last_name = name[space+1:]\n",
    "print(first_name)\n",
    "print(Last_name)\n"
   ]
  },
  {
   "cell_type": "code",
   "execution_count": 10,
   "metadata": {},
   "outputs": [
    {
     "name": "stdout",
     "output_type": "stream",
     "text": [
      "請輸入一個數字5\n",
      "請輸入次方值2\n",
      "25\n"
     ]
    }
   ],
   "source": [
    "b = int(input(\"請輸入一個數字\"))\n",
    "e = int(input(\"請輸入次方值\"))\n",
    "print(b**e)"
   ]
  },
  {
   "cell_type": "code",
   "execution_count": 14,
   "metadata": {},
   "outputs": [
    {
     "name": "stdout",
     "output_type": "stream",
     "text": [
      "你的名字是? Bob\n",
      "你現在幾歲? 10\n",
      "HI Bob! In 25 years you will be 35!\n"
     ]
    }
   ],
   "source": [
    "name = input(\"你的名字是? \")\n",
    "year = int(input(\"你現在幾歲? \"))\n",
    "year = year +25\n",
    "print('HI', name + '!', 'In 25 years you will be',str(year)+'!')\n"
   ]
  }
 ],
 "metadata": {
  "kernelspec": {
   "display_name": "Python 3",
   "language": "python",
   "name": "python3"
  },
  "language_info": {
   "codemirror_mode": {
    "name": "ipython",
    "version": 3
   },
   "file_extension": ".py",
   "mimetype": "text/x-python",
   "name": "python",
   "nbconvert_exporter": "python",
   "pygments_lexer": "ipython3",
   "version": "3.7.3"
  }
 },
 "nbformat": 4,
 "nbformat_minor": 2
}
